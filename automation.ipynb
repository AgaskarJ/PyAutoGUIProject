{
 "cells": [
  {
   "cell_type": "code",
   "execution_count": 1,
   "metadata": {},
   "outputs": [],
   "source": [
    "import pyautogui\n",
    "import time"
   ]
  },
  {
   "cell_type": "markdown",
   "metadata": {},
   "source": [
    "#### Audit Log\n",
    "App window should be maximized"
   ]
  },
  {
   "cell_type": "code",
   "execution_count": 2,
   "metadata": {},
   "outputs": [
    {
     "data": {
      "text/plain": [
       "Size(width=1440, height=900)"
      ]
     },
     "execution_count": 2,
     "metadata": {},
     "output_type": "execute_result"
    }
   ],
   "source": [
    "pyautogui.size()"
   ]
  },
  {
   "cell_type": "markdown",
   "metadata": {},
   "source": [
    "##### Navigate through browser to the start reporting"
   ]
  },
  {
   "cell_type": "code",
   "execution_count": 3,
   "metadata": {},
   "outputs": [],
   "source": [
    "app_name = 'Oracle'"
   ]
  },
  {
   "cell_type": "code",
   "execution_count": 4,
   "metadata": {},
   "outputs": [
    {
     "data": {
      "text/plain": [
       "Point(x=597, y=549)"
      ]
     },
     "execution_count": 4,
     "metadata": {},
     "output_type": "execute_result"
    }
   ],
   "source": [
    "time.sleep(5)\n",
    "pyautogui.position()"
   ]
  },
  {
   "cell_type": "code",
   "execution_count": 5,
   "metadata": {
    "collapsed": true,
    "jupyter": {
     "outputs_hidden": true
    }
   },
   "outputs": [
    {
     "ename": "KeyboardInterrupt",
     "evalue": "",
     "output_type": "error",
     "traceback": [
      "\u001b[0;31m---------------------------------------------------------------------------\u001b[0m",
      "\u001b[0;31mKeyboardInterrupt\u001b[0m                         Traceback (most recent call last)",
      "\u001b[0;32m<ipython-input-5-292415117126>\u001b[0m in \u001b[0;36m<module>\u001b[0;34m\u001b[0m\n\u001b[1;32m     22\u001b[0m \u001b[0;34m\u001b[0m\u001b[0m\n\u001b[1;32m     23\u001b[0m \u001b[0mtime\u001b[0m\u001b[0;34m.\u001b[0m\u001b[0msleep\u001b[0m\u001b[0;34m(\u001b[0m\u001b[0;36m7\u001b[0m\u001b[0;34m)\u001b[0m\u001b[0;34m\u001b[0m\u001b[0;34m\u001b[0m\u001b[0m\n\u001b[0;32m---> 24\u001b[0;31m \u001b[0mpyautogui\u001b[0m\u001b[0;34m.\u001b[0m\u001b[0mclick\u001b[0m\u001b[0;34m(\u001b[0m\u001b[0mpyautogui\u001b[0m\u001b[0;34m.\u001b[0m\u001b[0mlocateCenterOnScreen\u001b[0m\u001b[0;34m(\u001b[0m\u001b[0;34m'search1.PNG'\u001b[0m\u001b[0;34m)\u001b[0m\u001b[0;34m)\u001b[0m\u001b[0;34m\u001b[0m\u001b[0;34m\u001b[0m\u001b[0m\n\u001b[0m\u001b[1;32m     25\u001b[0m \u001b[0mtime\u001b[0m\u001b[0;34m.\u001b[0m\u001b[0msleep\u001b[0m\u001b[0;34m(\u001b[0m\u001b[0;36m1\u001b[0m\u001b[0;34m)\u001b[0m\u001b[0;34m\u001b[0m\u001b[0;34m\u001b[0m\u001b[0m\n\u001b[1;32m     26\u001b[0m \u001b[0mpyautogui\u001b[0m\u001b[0;34m.\u001b[0m\u001b[0mwrite\u001b[0m\u001b[0;34m(\u001b[0m\u001b[0mapp_name\u001b[0m\u001b[0;34m)\u001b[0m\u001b[0;34m\u001b[0m\u001b[0;34m\u001b[0m\u001b[0m\n",
      "\u001b[0;32m/opt/anaconda3/lib/python3.7/site-packages/pyautogui/__init__.py\u001b[0m in \u001b[0;36mwrapper\u001b[0;34m(*args, **kwargs)\u001b[0m\n\u001b[1;32m    173\u001b[0m     \u001b[0;32mdef\u001b[0m \u001b[0mwrapper\u001b[0m\u001b[0;34m(\u001b[0m\u001b[0;34m*\u001b[0m\u001b[0margs\u001b[0m\u001b[0;34m,\u001b[0m \u001b[0;34m**\u001b[0m\u001b[0mkwargs\u001b[0m\u001b[0;34m)\u001b[0m\u001b[0;34m:\u001b[0m\u001b[0;34m\u001b[0m\u001b[0;34m\u001b[0m\u001b[0m\n\u001b[1;32m    174\u001b[0m         \u001b[0;32mtry\u001b[0m\u001b[0;34m:\u001b[0m\u001b[0;34m\u001b[0m\u001b[0;34m\u001b[0m\u001b[0m\n\u001b[0;32m--> 175\u001b[0;31m             \u001b[0;32mreturn\u001b[0m \u001b[0mwrappedFunction\u001b[0m\u001b[0;34m(\u001b[0m\u001b[0;34m*\u001b[0m\u001b[0margs\u001b[0m\u001b[0;34m,\u001b[0m \u001b[0;34m**\u001b[0m\u001b[0mkwargs\u001b[0m\u001b[0;34m)\u001b[0m\u001b[0;34m\u001b[0m\u001b[0;34m\u001b[0m\u001b[0m\n\u001b[0m\u001b[1;32m    176\u001b[0m         \u001b[0;32mexcept\u001b[0m \u001b[0mpyscreeze\u001b[0m\u001b[0;34m.\u001b[0m\u001b[0mImageNotFoundException\u001b[0m\u001b[0;34m:\u001b[0m\u001b[0;34m\u001b[0m\u001b[0;34m\u001b[0m\u001b[0m\n\u001b[1;32m    177\u001b[0m             \u001b[0;32mraise\u001b[0m \u001b[0mImageNotFoundException\u001b[0m  \u001b[0;31m# Raise PyAutoGUI's ImageNotFoundException.\u001b[0m\u001b[0;34m\u001b[0m\u001b[0;34m\u001b[0m\u001b[0m\n",
      "\u001b[0;32m/opt/anaconda3/lib/python3.7/site-packages/pyautogui/__init__.py\u001b[0m in \u001b[0;36mlocateCenterOnScreen\u001b[0;34m(*args, **kwargs)\u001b[0m\n\u001b[1;32m    205\u001b[0m     \u001b[0;34m@\u001b[0m\u001b[0mraisePyAutoGUIImageNotFoundException\u001b[0m\u001b[0;34m\u001b[0m\u001b[0;34m\u001b[0m\u001b[0m\n\u001b[1;32m    206\u001b[0m     \u001b[0;32mdef\u001b[0m \u001b[0mlocateCenterOnScreen\u001b[0m\u001b[0;34m(\u001b[0m\u001b[0;34m*\u001b[0m\u001b[0margs\u001b[0m\u001b[0;34m,\u001b[0m \u001b[0;34m**\u001b[0m\u001b[0mkwargs\u001b[0m\u001b[0;34m)\u001b[0m\u001b[0;34m:\u001b[0m\u001b[0;34m\u001b[0m\u001b[0;34m\u001b[0m\u001b[0m\n\u001b[0;32m--> 207\u001b[0;31m         \u001b[0;32mreturn\u001b[0m \u001b[0mpyscreeze\u001b[0m\u001b[0;34m.\u001b[0m\u001b[0mlocateCenterOnScreen\u001b[0m\u001b[0;34m(\u001b[0m\u001b[0;34m*\u001b[0m\u001b[0margs\u001b[0m\u001b[0;34m,\u001b[0m \u001b[0;34m**\u001b[0m\u001b[0mkwargs\u001b[0m\u001b[0;34m)\u001b[0m\u001b[0;34m\u001b[0m\u001b[0;34m\u001b[0m\u001b[0m\n\u001b[0m\u001b[1;32m    208\u001b[0m \u001b[0;34m\u001b[0m\u001b[0m\n\u001b[1;32m    209\u001b[0m     \u001b[0mlocateCenterOnScreen\u001b[0m\u001b[0;34m.\u001b[0m\u001b[0m__doc__\u001b[0m \u001b[0;34m=\u001b[0m \u001b[0mpyscreeze\u001b[0m\u001b[0;34m.\u001b[0m\u001b[0mlocateCenterOnScreen\u001b[0m\u001b[0;34m.\u001b[0m\u001b[0m__doc__\u001b[0m\u001b[0;34m\u001b[0m\u001b[0;34m\u001b[0m\u001b[0m\n",
      "\u001b[0;32m/opt/anaconda3/lib/python3.7/site-packages/pyscreeze/__init__.py\u001b[0m in \u001b[0;36mlocateCenterOnScreen\u001b[0;34m(image, **kwargs)\u001b[0m\n\u001b[1;32m    411\u001b[0m     \u001b[0mTODO\u001b[0m\u001b[0;34m\u001b[0m\u001b[0;34m\u001b[0m\u001b[0m\n\u001b[1;32m    412\u001b[0m     \"\"\"\n\u001b[0;32m--> 413\u001b[0;31m     \u001b[0mcoords\u001b[0m \u001b[0;34m=\u001b[0m \u001b[0mlocateOnScreen\u001b[0m\u001b[0;34m(\u001b[0m\u001b[0mimage\u001b[0m\u001b[0;34m,\u001b[0m \u001b[0;34m**\u001b[0m\u001b[0mkwargs\u001b[0m\u001b[0;34m)\u001b[0m\u001b[0;34m\u001b[0m\u001b[0;34m\u001b[0m\u001b[0m\n\u001b[0m\u001b[1;32m    414\u001b[0m     \u001b[0;32mif\u001b[0m \u001b[0mcoords\u001b[0m \u001b[0;32mis\u001b[0m \u001b[0;32mNone\u001b[0m\u001b[0;34m:\u001b[0m\u001b[0;34m\u001b[0m\u001b[0;34m\u001b[0m\u001b[0m\n\u001b[1;32m    415\u001b[0m         \u001b[0;32mreturn\u001b[0m \u001b[0;32mNone\u001b[0m\u001b[0;34m\u001b[0m\u001b[0;34m\u001b[0m\u001b[0m\n",
      "\u001b[0;32m/opt/anaconda3/lib/python3.7/site-packages/pyscreeze/__init__.py\u001b[0m in \u001b[0;36mlocateOnScreen\u001b[0;34m(image, minSearchTime, **kwargs)\u001b[0m\n\u001b[1;32m    371\u001b[0m         \u001b[0;32mtry\u001b[0m\u001b[0;34m:\u001b[0m\u001b[0;34m\u001b[0m\u001b[0;34m\u001b[0m\u001b[0m\n\u001b[1;32m    372\u001b[0m             \u001b[0mscreenshotIm\u001b[0m \u001b[0;34m=\u001b[0m \u001b[0mscreenshot\u001b[0m\u001b[0;34m(\u001b[0m\u001b[0mregion\u001b[0m\u001b[0;34m=\u001b[0m\u001b[0;32mNone\u001b[0m\u001b[0;34m)\u001b[0m \u001b[0;31m# the locateAll() function must handle cropping to return accurate coordinates, so don't pass a region here.\u001b[0m\u001b[0;34m\u001b[0m\u001b[0;34m\u001b[0m\u001b[0m\n\u001b[0;32m--> 373\u001b[0;31m             \u001b[0mretVal\u001b[0m \u001b[0;34m=\u001b[0m \u001b[0mlocate\u001b[0m\u001b[0;34m(\u001b[0m\u001b[0mimage\u001b[0m\u001b[0;34m,\u001b[0m \u001b[0mscreenshotIm\u001b[0m\u001b[0;34m,\u001b[0m \u001b[0;34m**\u001b[0m\u001b[0mkwargs\u001b[0m\u001b[0;34m)\u001b[0m\u001b[0;34m\u001b[0m\u001b[0;34m\u001b[0m\u001b[0m\n\u001b[0m\u001b[1;32m    374\u001b[0m             \u001b[0;32mtry\u001b[0m\u001b[0;34m:\u001b[0m\u001b[0;34m\u001b[0m\u001b[0;34m\u001b[0m\u001b[0m\n\u001b[1;32m    375\u001b[0m                 \u001b[0mscreenshotIm\u001b[0m\u001b[0;34m.\u001b[0m\u001b[0mfp\u001b[0m\u001b[0;34m.\u001b[0m\u001b[0mclose\u001b[0m\u001b[0;34m(\u001b[0m\u001b[0;34m)\u001b[0m\u001b[0;34m\u001b[0m\u001b[0;34m\u001b[0m\u001b[0m\n",
      "\u001b[0;32m/opt/anaconda3/lib/python3.7/site-packages/pyscreeze/__init__.py\u001b[0m in \u001b[0;36mlocate\u001b[0;34m(needleImage, haystackImage, **kwargs)\u001b[0m\n\u001b[1;32m    351\u001b[0m     \u001b[0;31m# Note: The gymnastics in this function is because we want to make sure to exhaust the iterator so that the needle and haystack files are closed in locateAll.\u001b[0m\u001b[0;34m\u001b[0m\u001b[0;34m\u001b[0m\u001b[0;34m\u001b[0m\u001b[0m\n\u001b[1;32m    352\u001b[0m     \u001b[0mkwargs\u001b[0m\u001b[0;34m[\u001b[0m\u001b[0;34m'limit'\u001b[0m\u001b[0;34m]\u001b[0m \u001b[0;34m=\u001b[0m \u001b[0;36m1\u001b[0m\u001b[0;34m\u001b[0m\u001b[0;34m\u001b[0m\u001b[0m\n\u001b[0;32m--> 353\u001b[0;31m     \u001b[0mpoints\u001b[0m \u001b[0;34m=\u001b[0m \u001b[0mtuple\u001b[0m\u001b[0;34m(\u001b[0m\u001b[0mlocateAll\u001b[0m\u001b[0;34m(\u001b[0m\u001b[0mneedleImage\u001b[0m\u001b[0;34m,\u001b[0m \u001b[0mhaystackImage\u001b[0m\u001b[0;34m,\u001b[0m \u001b[0;34m**\u001b[0m\u001b[0mkwargs\u001b[0m\u001b[0;34m)\u001b[0m\u001b[0;34m)\u001b[0m\u001b[0;34m\u001b[0m\u001b[0;34m\u001b[0m\u001b[0m\n\u001b[0m\u001b[1;32m    354\u001b[0m     \u001b[0;32mif\u001b[0m \u001b[0mlen\u001b[0m\u001b[0;34m(\u001b[0m\u001b[0mpoints\u001b[0m\u001b[0;34m)\u001b[0m \u001b[0;34m>\u001b[0m \u001b[0;36m0\u001b[0m\u001b[0;34m:\u001b[0m\u001b[0;34m\u001b[0m\u001b[0;34m\u001b[0m\u001b[0m\n\u001b[1;32m    355\u001b[0m         \u001b[0;32mreturn\u001b[0m \u001b[0mpoints\u001b[0m\u001b[0;34m[\u001b[0m\u001b[0;36m0\u001b[0m\u001b[0;34m]\u001b[0m\u001b[0;34m\u001b[0m\u001b[0;34m\u001b[0m\u001b[0m\n",
      "\u001b[0;32m/opt/anaconda3/lib/python3.7/site-packages/pyscreeze/__init__.py\u001b[0m in \u001b[0;36m_locateAll_python\u001b[0;34m(needleImage, haystackImage, grayscale, limit, region, step, confidence)\u001b[0m\n\u001b[1;32m    289\u001b[0m \u001b[0;34m\u001b[0m\u001b[0m\n\u001b[1;32m    290\u001b[0m     \u001b[0mneedleImageData\u001b[0m \u001b[0;34m=\u001b[0m \u001b[0mtuple\u001b[0m\u001b[0;34m(\u001b[0m\u001b[0mneedleImage\u001b[0m\u001b[0;34m.\u001b[0m\u001b[0mgetdata\u001b[0m\u001b[0;34m(\u001b[0m\u001b[0;34m)\u001b[0m\u001b[0;34m)\u001b[0m\u001b[0;34m\u001b[0m\u001b[0;34m\u001b[0m\u001b[0m\n\u001b[0;32m--> 291\u001b[0;31m     \u001b[0mhaystackImageData\u001b[0m \u001b[0;34m=\u001b[0m \u001b[0mtuple\u001b[0m\u001b[0;34m(\u001b[0m\u001b[0mhaystackImage\u001b[0m\u001b[0;34m.\u001b[0m\u001b[0mgetdata\u001b[0m\u001b[0;34m(\u001b[0m\u001b[0;34m)\u001b[0m\u001b[0;34m)\u001b[0m\u001b[0;34m\u001b[0m\u001b[0;34m\u001b[0m\u001b[0m\n\u001b[0m\u001b[1;32m    292\u001b[0m \u001b[0;34m\u001b[0m\u001b[0m\n\u001b[1;32m    293\u001b[0m     \u001b[0mneedleImageRows\u001b[0m \u001b[0;34m=\u001b[0m \u001b[0;34m[\u001b[0m\u001b[0mneedleImageData\u001b[0m\u001b[0;34m[\u001b[0m\u001b[0my\u001b[0m \u001b[0;34m*\u001b[0m \u001b[0mneedleWidth\u001b[0m\u001b[0;34m:\u001b[0m\u001b[0;34m(\u001b[0m\u001b[0my\u001b[0m\u001b[0;34m+\u001b[0m\u001b[0;36m1\u001b[0m\u001b[0;34m)\u001b[0m \u001b[0;34m*\u001b[0m \u001b[0mneedleWidth\u001b[0m\u001b[0;34m]\u001b[0m \u001b[0;32mfor\u001b[0m \u001b[0my\u001b[0m \u001b[0;32min\u001b[0m \u001b[0mrange\u001b[0m\u001b[0;34m(\u001b[0m\u001b[0mneedleHeight\u001b[0m\u001b[0;34m)\u001b[0m\u001b[0;34m]\u001b[0m \u001b[0;31m# LEFT OFF - check this\u001b[0m\u001b[0;34m\u001b[0m\u001b[0;34m\u001b[0m\u001b[0m\n",
      "\u001b[0;31mKeyboardInterrupt\u001b[0m: "
     ]
    }
   ],
   "source": [
    "time.sleep(5)\n",
    "pyautogui.doubleClick(x=36, y=522)\n",
    "\n",
    "time.sleep(5)\n",
    "pyautogui.click(x=272, y=642)\n",
    "\n",
    "time.sleep(5)\n",
    "pyautogui.doubleClick(pyautogui.locateCenterOnScreen('workforce.PNG'))\n",
    "\n",
    "time.sleep(2)\n",
    "pyautogui.doubleClick(pyautogui.locateCenterOnScreen('iRequest.PNG'))\n",
    "\n",
    "time.sleep(2)\n",
    "pyautogui.click(x=379, y=285, button='right')\n",
    "time.sleep(2)\n",
    "pyautogui.click(pyautogui.locateCenterOnScreen('schedule1.PNG'))\n",
    "\n",
    "time.sleep(2)\n",
    "pyautogui.click(pyautogui.locateCenterOnScreen('prompts.PNG'))\n",
    "time.sleep(1)\n",
    "pyautogui.click(x=697, y=285)\n",
    "\n",
    "time.sleep(7)\n",
    "pyautogui.click(pyautogui.locateCenterOnScreen('search1.PNG'))\n",
    "time.sleep(1)\n",
    "pyautogui.write(app_name)\n",
    "time.sleep(1)\n",
    "pyautogui.click(pyautogui.locateCenterOnScreen('ok1.PNG'))\n",
    "\n",
    "time.sleep(2)\n",
    "pyautogui.click(pyautogui.locateCenterOnScreen('schedule2.PNG'))\n",
    "\n",
    "time.sleep(20)\n",
    "pyautogui.click(x=434, y=310)\n",
    "\n",
    "#time.sleep(8)"
   ]
  },
  {
   "cell_type": "markdown",
   "metadata": {},
   "source": [
    "##### Download Excel files"
   ]
  },
  {
   "cell_type": "code",
   "execution_count": 6,
   "metadata": {},
   "outputs": [
    {
     "data": {
      "text/plain": [
       "Point(x=624, y=584)"
      ]
     },
     "execution_count": 6,
     "metadata": {},
     "output_type": "execute_result"
    }
   ],
   "source": [
    "time.sleep(5)\n",
    "pyautogui.position()"
   ]
  },
  {
   "cell_type": "code",
   "execution_count": 7,
   "metadata": {
    "collapsed": true,
    "jupyter": {
     "outputs_hidden": true
    }
   },
   "outputs": [
    {
     "ename": "KeyboardInterrupt",
     "evalue": "",
     "output_type": "error",
     "traceback": [
      "\u001b[0;31m---------------------------------------------------------------------------\u001b[0m",
      "\u001b[0;31mKeyboardInterrupt\u001b[0m                         Traceback (most recent call last)",
      "\u001b[0;32m<ipython-input-7-8ecf2f9abedb>\u001b[0m in \u001b[0;36m<module>\u001b[0;34m\u001b[0m\n\u001b[1;32m      7\u001b[0m \u001b[0mtime\u001b[0m\u001b[0;34m.\u001b[0m\u001b[0msleep\u001b[0m\u001b[0;34m(\u001b[0m\u001b[0;36m2\u001b[0m\u001b[0;34m)\u001b[0m\u001b[0;34m\u001b[0m\u001b[0;34m\u001b[0m\u001b[0m\n\u001b[1;32m      8\u001b[0m \u001b[0mpyautogui\u001b[0m\u001b[0;34m.\u001b[0m\u001b[0mclick\u001b[0m\u001b[0;34m(\u001b[0m\u001b[0mx\u001b[0m\u001b[0;34m=\u001b[0m\u001b[0;36m1086\u001b[0m\u001b[0;34m,\u001b[0m \u001b[0my\u001b[0m\u001b[0;34m=\u001b[0m\u001b[0;36m695\u001b[0m\u001b[0;34m)\u001b[0m\u001b[0;34m\u001b[0m\u001b[0;34m\u001b[0m\u001b[0m\n\u001b[0;32m----> 9\u001b[0;31m \u001b[0mtime\u001b[0m\u001b[0;34m.\u001b[0m\u001b[0msleep\u001b[0m\u001b[0;34m(\u001b[0m\u001b[0;36m15\u001b[0m\u001b[0;34m)\u001b[0m\u001b[0;34m\u001b[0m\u001b[0;34m\u001b[0m\u001b[0m\n\u001b[0m\u001b[1;32m     10\u001b[0m \u001b[0mpyautogui\u001b[0m\u001b[0;34m.\u001b[0m\u001b[0mclick\u001b[0m\u001b[0;34m(\u001b[0m\u001b[0mx\u001b[0m\u001b[0;34m=\u001b[0m\u001b[0;36m1904\u001b[0m\u001b[0;34m,\u001b[0m \u001b[0my\u001b[0m\u001b[0;34m=\u001b[0m\u001b[0;36m910\u001b[0m\u001b[0;34m)\u001b[0m\u001b[0;34m\u001b[0m\u001b[0;34m\u001b[0m\u001b[0m\n",
      "\u001b[0;31mKeyboardInterrupt\u001b[0m: "
     ]
    }
   ],
   "source": [
    "#first excel\n",
    "time.sleep(5)\n",
    "pyautogui.click(pyautogui.locateCenterOnScreen('download1.PNG'))\n",
    "time.sleep(2)\n",
    "pyautogui.click(pyautogui.locateCenterOnScreen('arrow1.PNG'))\n",
    "time.sleep(2)\n",
    "pyautogui.click(x=983, y=575)\n",
    "time.sleep(2)\n",
    "pyautogui.click(x=1086, y=695)\n",
    "time.sleep(15)\n",
    "pyautogui.click(x=1904, y=910)"
   ]
  },
  {
   "cell_type": "code",
   "execution_count": 10,
   "metadata": {},
   "outputs": [],
   "source": [
    "#second excel\n",
    "time.sleep(5)\n",
    "pyautogui.click(pyautogui.locateCenterOnScreen('download1.PNG'))\n",
    "time.sleep(2)\n",
    "pyautogui.click(pyautogui.locateCenterOnScreen('arrow1.PNG'))\n",
    "time.sleep(2)\n",
    "pyautogui.click(x=976, y=625)\n",
    "time.sleep(2)\n",
    "pyautogui.click(x=1086, y=695)\n",
    "time.sleep(15)\n",
    "pyautogui.click(x=1904, y=910)"
   ]
  },
  {
   "cell_type": "markdown",
   "metadata": {},
   "source": [
    "##### Screenshots"
   ]
  },
  {
   "cell_type": "code",
   "execution_count": 4,
   "metadata": {},
   "outputs": [],
   "source": [
    "time.sleep(5)\n",
    "pyautogui.click(x=166, y=1062)"
   ]
  },
  {
   "cell_type": "code",
   "execution_count": 5,
   "metadata": {},
   "outputs": [],
   "source": [
    "time.sleep(2)\n",
    "pyautogui.doubleClick(pyautogui.locateCenterOnScreen('downloadfolder.PNG'))"
   ]
  },
  {
   "cell_type": "code",
   "execution_count": 6,
   "metadata": {},
   "outputs": [],
   "source": [
    "time.sleep(1)\n",
    "pyautogui.doubleClick(x=399, y=159)\n",
    "pyautogui.doubleClick(x=399, y=179)"
   ]
  },
  {
   "cell_type": "code",
   "execution_count": 7,
   "metadata": {},
   "outputs": [],
   "source": [
    "time.sleep(8)\n",
    "pyautogui.click(pyautogui.locateCenterOnScreen('exceladd.PNG'))\n",
    "time.sleep(3)\n",
    "pyautogui.click(x=865, y=1061)\n",
    "time.sleep(3)\n",
    "pyautogui.click(pyautogui.locateCenterOnScreen('exceladd.PNG'))\n",
    "time.sleep(3)\n",
    "pyautogui.click(x=700, y=1056)"
   ]
  },
  {
   "cell_type": "code",
   "execution_count": 8,
   "metadata": {},
   "outputs": [],
   "source": [
    "time.sleep(2)\n",
    "pyautogui.click(x=230, y=1056)"
   ]
  },
  {
   "cell_type": "markdown",
   "metadata": {},
   "source": [
    "First screenshot"
   ]
  },
  {
   "cell_type": "code",
   "execution_count": 23,
   "metadata": {},
   "outputs": [],
   "source": [
    "time.sleep(5)\n",
    "pyautogui.press('win')\n",
    "pyautogui.write('snip')\n",
    "pyautogui.press('enter')\n",
    "time.sleep(2)\n",
    "pyautogui.click(pyautogui.locateCenterOnScreen('snipnew.PNG'))\n",
    "time.sleep(2)\n",
    "pyautogui.moveTo(2, 2)\n",
    "time.sleep(1)\n",
    "pyautogui.dragTo(1915, 1075, 5, button='left')\n",
    "time.sleep(1)\n",
    "pyautogui.hotkey('ctrl', 'c')\n",
    "time.sleep(1)\n",
    "pyautogui.click(x=1883, y=14)\n",
    "time.sleep(1)\n",
    "pyautogui.press('right')\n",
    "time.sleep(1)\n",
    "pyautogui.press('enter')"
   ]
  },
  {
   "cell_type": "code",
   "execution_count": 24,
   "metadata": {},
   "outputs": [],
   "source": [
    "time.sleep(2)\n",
    "pyautogui.click(x=700, y=1056)\n",
    "time.sleep(1)\n",
    "pyautogui.hotkey('ctrl', 'v')\n",
    "time.sleep(2)\n",
    "pyautogui.click(x=100, y=315, button='right')\n",
    "time.sleep(1)\n",
    "pyautogui.click(pyautogui.locateCenterOnScreen('paintcrop.PNG'))\n",
    "time.sleep(2)\n",
    "pyautogui.click(x=1856, y=332)\n",
    "time.sleep(1)\n",
    "pyautogui.press(['backspace']*7)\n",
    "time.sleep(1)\n",
    "pyautogui.press(['6', 'enter'])\n",
    "time.sleep(1)\n",
    "pyautogui.click(x=1894, y=231)\n",
    "time.sleep(1)\n",
    "pyautogui.scroll(-1500)\n",
    "time.sleep(1)\n",
    "pyautogui.click(x=57, y=234)\n",
    "time.sleep(1)\n",
    "pyautogui.click(x=700, y=1056)  # minimize excel"
   ]
  },
  {
   "cell_type": "code",
   "execution_count": 25,
   "metadata": {},
   "outputs": [],
   "source": [
    "time.sleep(2)\n",
    "pyautogui.click(x=865, y=1061)\n",
    "time.sleep(1)\n",
    "pyautogui.hotkey('ctrl', 'v')\n",
    "time.sleep(2)\n",
    "pyautogui.click(x=100, y=315, button='right')\n",
    "time.sleep(1)\n",
    "pyautogui.click(pyautogui.locateCenterOnScreen('paintcrop.PNG'))\n",
    "time.sleep(2)\n",
    "pyautogui.click(x=1856, y=332)\n",
    "time.sleep(1)\n",
    "pyautogui.press(['backspace']*7)\n",
    "time.sleep(1)\n",
    "pyautogui.press(['6', 'enter'])\n",
    "time.sleep(1)\n",
    "pyautogui.click(x=1894, y=231)\n",
    "time.sleep(1)\n",
    "pyautogui.scroll(-1500)\n",
    "time.sleep(1)\n",
    "pyautogui.click(x=57, y=234)\n",
    "time.sleep(1)\n",
    "pyautogui.click(x=865, y=1061)  # minimize excel"
   ]
  },
  {
   "cell_type": "markdown",
   "metadata": {},
   "source": [
    "Second Screenshot"
   ]
  },
  {
   "cell_type": "code",
   "execution_count": 26,
   "metadata": {},
   "outputs": [],
   "source": [
    "time.sleep(5)\n",
    "pyautogui.click(x=323, y=280)\n",
    "time.sleep(1)\n",
    "pyautogui.press('end')\n",
    "time.sleep(3)\n",
    "pyautogui.press('win')\n",
    "pyautogui.write('snip')\n",
    "pyautogui.press('enter')\n",
    "time.sleep(2)\n",
    "pyautogui.click(pyautogui.locateCenterOnScreen('snipnew.PNG'))\n",
    "time.sleep(2)\n",
    "pyautogui.moveTo(2, 2)\n",
    "time.sleep(1)\n",
    "pyautogui.dragTo(1915, 1075, 5, button='left')\n",
    "time.sleep(1)\n",
    "pyautogui.hotkey('ctrl', 'c')\n",
    "time.sleep(1)\n",
    "pyautogui.click(x=1883, y=14)\n",
    "time.sleep(1)\n",
    "pyautogui.press('right')\n",
    "time.sleep(1)\n",
    "pyautogui.press('enter')"
   ]
  },
  {
   "cell_type": "code",
   "execution_count": 27,
   "metadata": {},
   "outputs": [],
   "source": [
    "time.sleep(2)\n",
    "pyautogui.click(x=700, y=1056)\n",
    "time.sleep(1)\n",
    "pyautogui.hotkey('ctrl', 'v')\n",
    "time.sleep(2)\n",
    "pyautogui.click(x=100, y=315, button='right')\n",
    "time.sleep(1)\n",
    "pyautogui.click(pyautogui.locateCenterOnScreen('paintcrop.PNG'))\n",
    "time.sleep(2)\n",
    "pyautogui.click(x=1856, y=332)\n",
    "time.sleep(1)\n",
    "pyautogui.press(['backspace']*7)\n",
    "time.sleep(1)\n",
    "pyautogui.press(['6', 'enter'])\n",
    "time.sleep(1)\n",
    "pyautogui.click(x=1894, y=231)\n",
    "time.sleep(1)\n",
    "pyautogui.scroll(-1500)\n",
    "time.sleep(1)\n",
    "pyautogui.click(x=57, y=234)\n",
    "time.sleep(1)\n",
    "pyautogui.click(x=700, y=1056)  # minimize excel"
   ]
  },
  {
   "cell_type": "code",
   "execution_count": 28,
   "metadata": {},
   "outputs": [],
   "source": [
    "time.sleep(2)\n",
    "pyautogui.click(x=865, y=1061)\n",
    "time.sleep(1)\n",
    "pyautogui.hotkey('ctrl', 'v')\n",
    "time.sleep(2)\n",
    "pyautogui.click(x=100, y=315, button='right')\n",
    "time.sleep(1)\n",
    "pyautogui.click(pyautogui.locateCenterOnScreen('paintcrop.PNG'))\n",
    "time.sleep(2)\n",
    "pyautogui.click(x=1856, y=332)\n",
    "time.sleep(1)\n",
    "pyautogui.press(['backspace']*7)\n",
    "time.sleep(1)\n",
    "pyautogui.press(['6', 'enter'])\n",
    "time.sleep(1)\n",
    "pyautogui.click(x=1894, y=231)\n",
    "time.sleep(1)\n",
    "pyautogui.scroll(-1500)\n",
    "time.sleep(1)\n",
    "pyautogui.click(x=57, y=234)\n",
    "time.sleep(1)\n",
    "pyautogui.click(x=865, y=1061)  # minimize excel"
   ]
  },
  {
   "cell_type": "markdown",
   "metadata": {},
   "source": [
    "Third Screenshot"
   ]
  },
  {
   "cell_type": "code",
   "execution_count": 81,
   "metadata": {},
   "outputs": [],
   "source": [
    "time.sleep(5)\n",
    "pyautogui.click(x=296, y=160)\n",
    "\n",
    "time.sleep(5)\n",
    "pyautogui.press('win')\n",
    "pyautogui.write('snip')\n",
    "pyautogui.press('enter')\n",
    "time.sleep(2)\n",
    "pyautogui.click(pyautogui.locateCenterOnScreen('snipnew.PNG'))\n",
    "time.sleep(2)\n",
    "pyautogui.moveTo(2, 2)\n",
    "time.sleep(1)\n",
    "pyautogui.dragTo(1915, 318, 5, button='left')\n",
    "time.sleep(1)\n",
    "pyautogui.hotkey('ctrl', 'c')\n",
    "time.sleep(1)\n",
    "pyautogui.click(x=1883, y=14)\n",
    "time.sleep(1)\n",
    "pyautogui.press('right')\n",
    "time.sleep(1)\n",
    "pyautogui.press('enter')"
   ]
  },
  {
   "cell_type": "code",
   "execution_count": 82,
   "metadata": {},
   "outputs": [],
   "source": [
    "time.sleep(2)\n",
    "pyautogui.click(x=700, y=1056)\n",
    "time.sleep(1)\n",
    "pyautogui.hotkey('ctrl', 'v')\n",
    "time.sleep(2)\n",
    "pyautogui.click(x=100, y=315, button='right')\n",
    "time.sleep(1)\n",
    "pyautogui.click(pyautogui.locateCenterOnScreen('paintcrop.PNG'))\n",
    "time.sleep(2)\n",
    "pyautogui.click(x=1856, y=332)\n",
    "time.sleep(1)\n",
    "pyautogui.press(['backspace']*7)\n",
    "time.sleep(1)\n",
    "pyautogui.write('2.2')\n",
    "pyautogui.press('enter')\n",
    "time.sleep(1)\n",
    "pyautogui.click(x=1894, y=231)"
   ]
  },
  {
   "cell_type": "code",
   "execution_count": 83,
   "metadata": {},
   "outputs": [],
   "source": [
    "time.sleep(2)\n",
    "pyautogui.click(x=865, y=1061)\n",
    "time.sleep(1)\n",
    "pyautogui.hotkey('ctrl', 'v')\n",
    "time.sleep(2)\n",
    "pyautogui.click(x=100, y=315, button='right')\n",
    "time.sleep(1)\n",
    "pyautogui.click(pyautogui.locateCenterOnScreen('paintcrop.PNG'))\n",
    "time.sleep(2)\n",
    "pyautogui.click(x=1856, y=332)\n",
    "time.sleep(1)\n",
    "pyautogui.press(['backspace']*7)\n",
    "time.sleep(1)\n",
    "pyautogui.write('2.2')\n",
    "pyautogui.press('enter')\n",
    "time.sleep(1)\n",
    "pyautogui.click(x=1894, y=231)"
   ]
  },
  {
   "cell_type": "markdown",
   "metadata": {},
   "source": [
    "Close files"
   ]
  },
  {
   "cell_type": "code",
   "execution_count": 84,
   "metadata": {},
   "outputs": [],
   "source": [
    "time.sleep(5)\n",
    "pyautogui.click(x=1898, y=9)\n",
    "time.sleep(1)\n",
    "pyautogui.press('enter')\n",
    "time.sleep(5)\n",
    "pyautogui.click(x=1898, y=9)\n",
    "time.sleep(1)\n",
    "pyautogui.press('enter')"
   ]
  },
  {
   "cell_type": "code",
   "execution_count": 3,
   "metadata": {},
   "outputs": [
    {
     "data": {
      "text/plain": [
       "Point(x=215, y=958)"
      ]
     },
     "execution_count": 3,
     "metadata": {},
     "output_type": "execute_result"
    }
   ],
   "source": [
    "time.sleep(5) \n",
    "pyautogui.position()"
   ]
  },
  {
   "cell_type": "code",
   "execution_count": 9,
   "metadata": {},
   "outputs": [],
   "source": [
    "time.sleep(2)\n",
    "pyautogui.click(x=230, y=1056)\n",
    "time.sleep(2)\n",
    "pyautogui.click(x=1898, y=9)"
   ]
  },
  {
   "cell_type": "code",
   "execution_count": null,
   "metadata": {},
   "outputs": [],
   "source": [
    "time.sleep(2)\n",
    "pyautogui.click(x=1898, y=9)\n",
    "time.sleep(1)\n",
    "pyautogui.press('enter')"
   ]
  }
 ],
 "metadata": {
  "kernelspec": {
   "display_name": "Python 3",
   "language": "python",
   "name": "python3"
  },
  "language_info": {
   "codemirror_mode": {
    "name": "ipython",
    "version": 3
   },
   "file_extension": ".py",
   "mimetype": "text/x-python",
   "name": "python",
   "nbconvert_exporter": "python",
   "pygments_lexer": "ipython3",
   "version": "3.7.4"
  }
 },
 "nbformat": 4,
 "nbformat_minor": 5
}
